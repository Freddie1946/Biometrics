{
 "cells": [
  {
   "cell_type": "code",
   "execution_count": 9,
   "metadata": {},
   "outputs": [],
   "source": [
    "from modules.detector import *\n",
    "import argparse\n",
    "import yaml\n",
    "import concurrent.futures"
   ]
  },
  {
   "cell_type": "code",
   "execution_count": 10,
   "metadata": {},
   "outputs": [],
   "source": [
    "with open('./config_demo.yaml', 'r', encoding='utf-8') as file:\n",
    "    config = yaml.safe_load(file)\n",
    "\n",
    "detector = Detector(config)"
   ]
  },
  {
   "cell_type": "code",
   "execution_count": 11,
   "metadata": {},
   "outputs": [],
   "source": [
    "image = cv2.imread(\"./assets/pose/7.jpg\")"
   ]
  },
  {
   "cell_type": "code",
   "execution_count": 12,
   "metadata": {},
   "outputs": [
    {
     "name": "stdout",
     "output_type": "stream",
     "text": [
      "get pose cost time:  1.8600068092346191\n",
      "face detection cost time:  0.03399515151977539\n"
     ]
    },
    {
     "data": {
      "text/plain": [
       "True"
      ]
     },
     "execution_count": 12,
     "metadata": {},
     "output_type": "execute_result"
    }
   ],
   "source": [
    "# pose_list: [[x1, y1, pose1], [x2, y2, pose2], ...]\n",
    "# pose: {0: \"举手\"， 1: \"下蹲\", 2: \"剪刀手\", 3: \"其他\"}\n",
    "image_pose, pose_list, detected_keypoints, keypoints_list, personwiseKeypoints = detector.get_pose(cv2.resize(image, (480,640)), 320, if_save=True)\n",
    "face_position, name = detector.RecognizeFace(cv2.resize(image, (480,640))) \n",
    "draw_image, name_list, act_list = detector.DrawPicture(cv2.resize(image, (640,480)), face_position, name, pose_list, detected_keypoints, keypoints_list, personwiseKeypoints)\n",
    "cv2.imwrite('./results/draw.jpg', draw_image)\n"
   ]
  },
  {
   "cell_type": "code",
   "execution_count": 17,
   "metadata": {},
   "outputs": [],
   "source": [
    "img = cv2.resize(image, (480,640))"
   ]
  },
  {
   "cell_type": "code",
   "execution_count": 18,
   "metadata": {},
   "outputs": [
    {
     "name": "stdout",
     "output_type": "stream",
     "text": [
      "face detection cost time:  0.03825855255126953\n",
      "get pose cost time:  1.7732799053192139\n"
     ]
    }
   ],
   "source": [
    "with concurrent.futures.ThreadPoolExecutor() as executor:\n",
    "    # 并行执行 get_pose 和 RecognizeFace\n",
    "    pose_future = executor.submit(detector.get_pose, img, 320, if_save=True)\n",
    "    face_future = executor.submit(detector.RecognizeFace, image)\n",
    "\n",
    "    # 获取 get_pose 的结果\n",
    "    image_pose, pose_list, detected_keypoints, keypoints_list, personwiseKeypoints = pose_future.result()\n",
    "\n",
    "    # 获取 RecognizeFace 的结果\n",
    "    face_position, name = face_future.result()\n",
    "\n",
    "    # 继续执行剩余部分的代码\n",
    "    draw_image, name_list, act_list = detector.DrawPicture(cv2.resize(image, (640,480)), face_position, name, pose_list, detected_keypoints, keypoints_list, personwiseKeypoints)\n",
    "\n",
    "    cv2.imwrite('./results/draw.jpg', draw_image)"
   ]
  },
  {
   "cell_type": "code",
   "execution_count": null,
   "metadata": {},
   "outputs": [],
   "source": []
  },
  {
   "cell_type": "code",
   "execution_count": 19,
   "metadata": {},
   "outputs": [
    {
     "data": {
      "text/plain": [
       "['方学基', '方学基', '江俊', '吴鉴瑜']"
      ]
     },
     "execution_count": 19,
     "metadata": {},
     "output_type": "execute_result"
    }
   ],
   "source": [
    "name_list"
   ]
  },
  {
   "cell_type": "markdown",
   "metadata": {},
   "source": []
  },
  {
   "cell_type": "code",
   "execution_count": 16,
   "metadata": {},
   "outputs": [
    {
     "data": {
      "text/plain": [
       "[['其他'], ['其他'], ['其他'], ['其他']]"
      ]
     },
     "execution_count": 16,
     "metadata": {},
     "output_type": "execute_result"
    }
   ],
   "source": [
    "act_list"
   ]
  },
  {
   "cell_type": "code",
   "execution_count": null,
   "metadata": {},
   "outputs": [],
   "source": []
  }
 ],
 "metadata": {
  "kernelspec": {
   "display_name": "base",
   "language": "python",
   "name": "python3"
  },
  "language_info": {
   "codemirror_mode": {
    "name": "ipython",
    "version": 3
   },
   "file_extension": ".py",
   "mimetype": "text/x-python",
   "name": "python",
   "nbconvert_exporter": "python",
   "pygments_lexer": "ipython3",
   "version": "3.9.18"
  }
 },
 "nbformat": 4,
 "nbformat_minor": 2
}
