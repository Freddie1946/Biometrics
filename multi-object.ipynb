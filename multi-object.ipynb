{
 "cells": [
  {
   "cell_type": "code",
   "execution_count": 1,
   "metadata": {},
   "outputs": [],
   "source": [
    "from model.detector import *\n",
    "import argparse\n",
    "import yaml\n",
    "import concurrent.futures"
   ]
  },
  {
   "cell_type": "code",
   "execution_count": 2,
   "metadata": {},
   "outputs": [],
   "source": [
    "with open('./config_demo.yaml', 'r', encoding='utf-8') as file:\n",
    "    config = yaml.safe_load(file)\n",
    "\n",
    "detector = Detector(config)"
   ]
  },
  {
   "cell_type": "code",
   "execution_count": 3,
   "metadata": {},
   "outputs": [],
   "source": [
    "image = cv2.imread(\"./assets/pose/7.jpg\")"
   ]
  },
  {
   "cell_type": "code",
   "execution_count": 4,
   "metadata": {},
   "outputs": [
    {
     "name": "stdout",
     "output_type": "stream",
     "text": [
      "[['周倩'], ['吴胡林'], ['段志伟'], ['胡悦欣']]\n",
      "Init: 2.384185791015625e-07\n",
      "Detect: 0.031194686889648438\n",
      "Extract Feature: 0.15163683891296387\n",
      "Match: 0.006143808364868164\n"
     ]
    },
    {
     "data": {
      "text/plain": [
       "True"
      ]
     },
     "execution_count": 4,
     "metadata": {},
     "output_type": "execute_result"
    }
   ],
   "source": [
    "# pose_list: [[x1, y1, pose1], [x2, y2, pose2], ...]\n",
    "# pose: {0: \"举手\"， 1: \"下蹲\", 2: \"剪刀手\", 3: \"其他\"}\n",
    "image_pose, pose_list, detected_keypoints, keypoints_list, personwiseKeypoints = detector.get_pose(cv2.resize(image, (480,640)), 320, if_save=True)\n",
    "face_position, name, height_radio, width_radio = detector.RecognizeFace(cv2.resize(image, (480,640))) \n",
    "draw_image, name_list, act_list = detector.DrawPicture(cv2.resize(image, (480,640)), face_position, name, pose_list, height_radio, width_radio, detected_keypoints, keypoints_list, personwiseKeypoints)\n",
    "cv2.imwrite('./results/draw.jpg', draw_image)"
   ]
  },
  {
   "cell_type": "code",
   "execution_count": 9,
   "metadata": {},
   "outputs": [],
   "source": [
    "img = cv2.resize(image, (480,640))"
   ]
  },
  {
   "cell_type": "code",
   "execution_count": 10,
   "metadata": {},
   "outputs": [
    {
     "name": "stdout",
     "output_type": "stream",
     "text": [
      "[['周倩'], ['吴胡林'], ['段志伟'], ['胡悦欣']]\n",
      "Init: 7.152557373046875e-07\n",
      "Detect: 0.04172205924987793\n",
      "Extract Feature: 0.31144285202026367\n",
      "Match: 0.005666494369506836\n"
     ]
    }
   ],
   "source": [
    "with concurrent.futures.ThreadPoolExecutor() as executor:\n",
    "    # 并行执行 get_pose 和 RecognizeFace\n",
    "    pose_future = executor.submit(detector.get_pose, img, 320, if_save=True)\n",
    "    face_future = executor.submit(detector.RecognizeFace, img)\n",
    "\n",
    "    # 获取 get_pose 的结果\n",
    "    image_pose, pose_list, detected_keypoints, keypoints_list, personwiseKeypoints = pose_future.result()\n",
    "\n",
    "    # 获取 RecognizeFace 的结果\n",
    "    face_position, name, height_radio, width_radio = face_future.result()\n",
    "\n",
    "    # 继续执行剩余部分的代码\n",
    "    draw_image, name_list, act_list = detector.DrawPicture(cv2.resize(image, (480,640)), face_position, name, pose_list, height_radio, width_radio, detected_keypoints, keypoints_list, personwiseKeypoints)\n",
    "\n",
    "    cv2.imwrite('./results/draw.jpg', draw_image)"
   ]
  },
  {
   "cell_type": "code",
   "execution_count": null,
   "metadata": {},
   "outputs": [],
   "source": []
  },
  {
   "cell_type": "code",
   "execution_count": 5,
   "metadata": {},
   "outputs": [
    {
     "data": {
      "text/plain": [
       "['周倩', '吴胡林', '段志伟', '胡悦欣']"
      ]
     },
     "execution_count": 5,
     "metadata": {},
     "output_type": "execute_result"
    }
   ],
   "source": [
    "name_list"
   ]
  },
  {
   "cell_type": "markdown",
   "metadata": {},
   "source": []
  },
  {
   "cell_type": "code",
   "execution_count": 6,
   "metadata": {},
   "outputs": [
    {
     "data": {
      "text/plain": [
       "[['剪刀手'], ['剪刀手'], ['剪刀手'], ['剪刀手']]"
      ]
     },
     "execution_count": 6,
     "metadata": {},
     "output_type": "execute_result"
    }
   ],
   "source": [
    "act_list"
   ]
  },
  {
   "cell_type": "code",
   "execution_count": null,
   "metadata": {},
   "outputs": [],
   "source": []
  }
 ],
 "metadata": {
  "kernelspec": {
   "display_name": "base",
   "language": "python",
   "name": "python3"
  },
  "language_info": {
   "codemirror_mode": {
    "name": "ipython",
    "version": 3
   },
   "file_extension": ".py",
   "mimetype": "text/x-python",
   "name": "python",
   "nbconvert_exporter": "python",
   "pygments_lexer": "ipython3",
   "version": "3.10.10"
  }
 },
 "nbformat": 4,
 "nbformat_minor": 2
}
